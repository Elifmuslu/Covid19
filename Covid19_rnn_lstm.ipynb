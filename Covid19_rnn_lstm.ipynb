{
  "nbformat": 4,
  "nbformat_minor": 0,
  "metadata": {
    "colab": {
      "name": "Covid19-rnn-lstm",
      "provenance": [],
      "collapsed_sections": []
    },
    "kernelspec": {
      "display_name": "Python 3",
      "name": "python3"
    }
  },
  "cells": [
    {
      "cell_type": "code",
      "metadata": {
        "id": "_RKIGCp8vorF"
      },
      "source": [
        "#import all the libraries that are needed\n",
        "import pandas as pd\n",
        "import numpy as np\n",
        "import torch\n",
        "import matplotlib.pyplot as plt\n",
        "from torch import nn\n",
        "from sklearn.preprocessing import MinMaxScaler"
      ],
      "execution_count": null,
      "outputs": []
    },
    {
      "cell_type": "code",
      "metadata": {
        "id": "WIdSn8rTvtPx",
        "colab": {
          "resources": {
            "http://localhost:8080/nbextensions/google.colab/files.js": {
              "data": "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",
              "ok": true,
              "headers": [
                [
                  "content-type",
                  "application/javascript"
                ]
              ],
              "status": 200,
              "status_text": ""
            }
          },
          "base_uri": "https://localhost:8080/",
          "height": 89
        },
        "outputId": "76293f4f-78d0-4621-fadf-8c9094984c61"
      },
      "source": [
        "from google.colab import files\n",
        "\n",
        "uploaded = files.upload()\n",
        "\n",
        "for fn in uploaded.keys():\n",
        "  print('User uploaded file \"{name}\" with length {length} bytes'.format(\n",
        "      name=fn, length=len(uploaded[fn])))"
      ],
      "execution_count": null,
      "outputs": [
        {
          "output_type": "display_data",
          "data": {
            "text/html": [
              "\n",
              "     <input type=\"file\" id=\"files-d6f0dcef-e167-46e0-9bd8-b8c1eb769867\" name=\"files[]\" multiple disabled\n",
              "        style=\"border:none\" />\n",
              "     <output id=\"result-d6f0dcef-e167-46e0-9bd8-b8c1eb769867\">\n",
              "      Upload widget is only available when the cell has been executed in the\n",
              "      current browser session. Please rerun this cell to enable.\n",
              "      </output>\n",
              "      <script src=\"/nbextensions/google.colab/files.js\"></script> "
            ],
            "text/plain": [
              "<IPython.core.display.HTML object>"
            ]
          },
          "metadata": {
            "tags": []
          }
        },
        {
          "output_type": "stream",
          "text": [
            "Saving time_series_covid19_confirmed_Germany.csv to time_series_covid19_confirmed_Germany (3).csv\n",
            "User uploaded file \"time_series_covid19_confirmed_Germany.csv\" with length 4838 bytes\n"
          ],
          "name": "stdout"
        }
      ]
    },
    {
      "cell_type": "code",
      "metadata": {
        "id": "cXKOlmTnvzPR"
      },
      "source": [
        "import io\n",
        "data = pd.read_csv(io.BytesIO(uploaded['time_series_covid19_confirmed_Germany.csv']))\n",
        "# Dataset is now stored in a Pandas Dataframe"
      ],
      "execution_count": null,
      "outputs": []
    },
    {
      "cell_type": "code",
      "metadata": {
        "id": "ydG4VFFWv1jK",
        "colab": {
          "base_uri": "https://localhost:8080/"
        },
        "outputId": "0d2da1c0-beb5-4875-eed5-d1633e3dd473"
      },
      "source": [
        "data.info() #data details"
      ],
      "execution_count": null,
      "outputs": [
        {
          "output_type": "stream",
          "text": [
            "<class 'pandas.core.frame.DataFrame'>\n",
            "RangeIndex: 1 entries, 0 to 0\n",
            "Columns: 301 entries, Province/State to 11/13/2020\n",
            "dtypes: float64(3), int64(297), object(1)\n",
            "memory usage: 2.5+ KB\n"
          ],
          "name": "stdout"
        }
      ]
    },
    {
      "cell_type": "code",
      "metadata": {
        "id": "TzvjPn-pv3lb",
        "colab": {
          "base_uri": "https://localhost:8080/",
          "height": 346
        },
        "outputId": "49a476d8-8352-44e0-f939-48d167c7fb8f"
      },
      "source": [
        "data.describe() #describing the data"
      ],
      "execution_count": null,
      "outputs": [
        {
          "output_type": "execute_result",
          "data": {
            "text/html": [
              "<div>\n",
              "<style scoped>\n",
              "    .dataframe tbody tr th:only-of-type {\n",
              "        vertical-align: middle;\n",
              "    }\n",
              "\n",
              "    .dataframe tbody tr th {\n",
              "        vertical-align: top;\n",
              "    }\n",
              "\n",
              "    .dataframe thead th {\n",
              "        text-align: right;\n",
              "    }\n",
              "</style>\n",
              "<table border=\"1\" class=\"dataframe\">\n",
              "  <thead>\n",
              "    <tr style=\"text-align: right;\">\n",
              "      <th></th>\n",
              "      <th>Province/State</th>\n",
              "      <th>Lat</th>\n",
              "      <th>Long</th>\n",
              "      <th>1/22/2020</th>\n",
              "      <th>1/23/2020</th>\n",
              "      <th>1/24/2020</th>\n",
              "      <th>1/25/2020</th>\n",
              "      <th>1/26/2020</th>\n",
              "      <th>1/27/2020</th>\n",
              "      <th>1/28/2020</th>\n",
              "      <th>1/29/2020</th>\n",
              "      <th>1/30/2020</th>\n",
              "      <th>1/31/2020</th>\n",
              "      <th>2/1/2020</th>\n",
              "      <th>2/2/2020</th>\n",
              "      <th>2/3/2020</th>\n",
              "      <th>2/4/2020</th>\n",
              "      <th>2/5/2020</th>\n",
              "      <th>2/6/2020</th>\n",
              "      <th>2/7/2020</th>\n",
              "      <th>2/8/2020</th>\n",
              "      <th>2/9/2020</th>\n",
              "      <th>2/10/2020</th>\n",
              "      <th>2/11/2020</th>\n",
              "      <th>2/12/2020</th>\n",
              "      <th>2/13/2020</th>\n",
              "      <th>2/14/2020</th>\n",
              "      <th>2/15/2020</th>\n",
              "      <th>2/16/2020</th>\n",
              "      <th>2/17/2020</th>\n",
              "      <th>2/18/2020</th>\n",
              "      <th>2/19/2020</th>\n",
              "      <th>2/20/2020</th>\n",
              "      <th>2/21/2020</th>\n",
              "      <th>2/22/2020</th>\n",
              "      <th>2/23/2020</th>\n",
              "      <th>2/24/2020</th>\n",
              "      <th>2/25/2020</th>\n",
              "      <th>2/26/2020</th>\n",
              "      <th>2/27/2020</th>\n",
              "      <th>...</th>\n",
              "      <th>10/5/2020</th>\n",
              "      <th>10/6/2020</th>\n",
              "      <th>10/7/2020</th>\n",
              "      <th>10/8/2020</th>\n",
              "      <th>10/9/2020</th>\n",
              "      <th>10/10/2020</th>\n",
              "      <th>10/11/2020</th>\n",
              "      <th>10/12/2020</th>\n",
              "      <th>10/13/2020</th>\n",
              "      <th>10/14/2020</th>\n",
              "      <th>10/15/2020</th>\n",
              "      <th>10/16/2020</th>\n",
              "      <th>10/17/2020</th>\n",
              "      <th>10/18/2020</th>\n",
              "      <th>10/19/2020</th>\n",
              "      <th>10/20/2020</th>\n",
              "      <th>10/21/2020</th>\n",
              "      <th>10/22/2020</th>\n",
              "      <th>10/23/2020</th>\n",
              "      <th>10/24/2020</th>\n",
              "      <th>10/25/2020</th>\n",
              "      <th>10/26/2020</th>\n",
              "      <th>10/27/2020</th>\n",
              "      <th>10/28/2020</th>\n",
              "      <th>10/29/2020</th>\n",
              "      <th>10/30/2020</th>\n",
              "      <th>10/31/2020</th>\n",
              "      <th>11/1/2020</th>\n",
              "      <th>11/2/2020</th>\n",
              "      <th>11/3/2020</th>\n",
              "      <th>11/4/2020</th>\n",
              "      <th>11/5/2020</th>\n",
              "      <th>11/6/2020</th>\n",
              "      <th>11/7/2020</th>\n",
              "      <th>11/8/2020</th>\n",
              "      <th>11/9/2020</th>\n",
              "      <th>11/10/2020</th>\n",
              "      <th>11/11/2020</th>\n",
              "      <th>11/12/2020</th>\n",
              "      <th>11/13/2020</th>\n",
              "    </tr>\n",
              "  </thead>\n",
              "  <tbody>\n",
              "    <tr>\n",
              "      <th>count</th>\n",
              "      <td>0.0</td>\n",
              "      <td>1.000000</td>\n",
              "      <td>1.000000</td>\n",
              "      <td>1.0</td>\n",
              "      <td>1.0</td>\n",
              "      <td>1.0</td>\n",
              "      <td>1.0</td>\n",
              "      <td>1.0</td>\n",
              "      <td>1.0</td>\n",
              "      <td>1.0</td>\n",
              "      <td>1.0</td>\n",
              "      <td>1.0</td>\n",
              "      <td>1.0</td>\n",
              "      <td>1.0</td>\n",
              "      <td>1.0</td>\n",
              "      <td>1.0</td>\n",
              "      <td>1.0</td>\n",
              "      <td>1.0</td>\n",
              "      <td>1.0</td>\n",
              "      <td>1.0</td>\n",
              "      <td>1.0</td>\n",
              "      <td>1.0</td>\n",
              "      <td>1.0</td>\n",
              "      <td>1.0</td>\n",
              "      <td>1.0</td>\n",
              "      <td>1.0</td>\n",
              "      <td>1.0</td>\n",
              "      <td>1.0</td>\n",
              "      <td>1.0</td>\n",
              "      <td>1.0</td>\n",
              "      <td>1.0</td>\n",
              "      <td>1.0</td>\n",
              "      <td>1.0</td>\n",
              "      <td>1.0</td>\n",
              "      <td>1.0</td>\n",
              "      <td>1.0</td>\n",
              "      <td>1.0</td>\n",
              "      <td>1.0</td>\n",
              "      <td>1.0</td>\n",
              "      <td>1.0</td>\n",
              "      <td>...</td>\n",
              "      <td>1.0</td>\n",
              "      <td>1.0</td>\n",
              "      <td>1.0</td>\n",
              "      <td>1.0</td>\n",
              "      <td>1.0</td>\n",
              "      <td>1.0</td>\n",
              "      <td>1.0</td>\n",
              "      <td>1.0</td>\n",
              "      <td>1.0</td>\n",
              "      <td>1.0</td>\n",
              "      <td>1.0</td>\n",
              "      <td>1.0</td>\n",
              "      <td>1.0</td>\n",
              "      <td>1.0</td>\n",
              "      <td>1.0</td>\n",
              "      <td>1.0</td>\n",
              "      <td>1.0</td>\n",
              "      <td>1.0</td>\n",
              "      <td>1.0</td>\n",
              "      <td>1.0</td>\n",
              "      <td>1.0</td>\n",
              "      <td>1.0</td>\n",
              "      <td>1.0</td>\n",
              "      <td>1.0</td>\n",
              "      <td>1.0</td>\n",
              "      <td>1.0</td>\n",
              "      <td>1.0</td>\n",
              "      <td>1.0</td>\n",
              "      <td>1.0</td>\n",
              "      <td>1.0</td>\n",
              "      <td>1.0</td>\n",
              "      <td>1.0</td>\n",
              "      <td>1.0</td>\n",
              "      <td>1.0</td>\n",
              "      <td>1.0</td>\n",
              "      <td>1.0</td>\n",
              "      <td>1.0</td>\n",
              "      <td>1.0</td>\n",
              "      <td>1.0</td>\n",
              "      <td>1.0</td>\n",
              "    </tr>\n",
              "    <tr>\n",
              "      <th>mean</th>\n",
              "      <td>NaN</td>\n",
              "      <td>51.165691</td>\n",
              "      <td>10.451526</td>\n",
              "      <td>0.0</td>\n",
              "      <td>0.0</td>\n",
              "      <td>0.0</td>\n",
              "      <td>0.0</td>\n",
              "      <td>0.0</td>\n",
              "      <td>0.0</td>\n",
              "      <td>1.0</td>\n",
              "      <td>4.0</td>\n",
              "      <td>4.0</td>\n",
              "      <td>5.0</td>\n",
              "      <td>7.0</td>\n",
              "      <td>8.0</td>\n",
              "      <td>9.0</td>\n",
              "      <td>11.0</td>\n",
              "      <td>11.0</td>\n",
              "      <td>11.0</td>\n",
              "      <td>12.0</td>\n",
              "      <td>13.0</td>\n",
              "      <td>13.0</td>\n",
              "      <td>13.0</td>\n",
              "      <td>13.0</td>\n",
              "      <td>15.0</td>\n",
              "      <td>15.0</td>\n",
              "      <td>15.0</td>\n",
              "      <td>15.0</td>\n",
              "      <td>15.0</td>\n",
              "      <td>15.0</td>\n",
              "      <td>15.0</td>\n",
              "      <td>15.0</td>\n",
              "      <td>15.0</td>\n",
              "      <td>15.0</td>\n",
              "      <td>15.0</td>\n",
              "      <td>15.0</td>\n",
              "      <td>15.0</td>\n",
              "      <td>15.0</td>\n",
              "      <td>17.0</td>\n",
              "      <td>21.0</td>\n",
              "      <td>...</td>\n",
              "      <td>300619.0</td>\n",
              "      <td>303258.0</td>\n",
              "      <td>306086.0</td>\n",
              "      <td>310144.0</td>\n",
              "      <td>314660.0</td>\n",
              "      <td>319381.0</td>\n",
              "      <td>322864.0</td>\n",
              "      <td>325331.0</td>\n",
              "      <td>329453.0</td>\n",
              "      <td>334585.0</td>\n",
              "      <td>341223.0</td>\n",
              "      <td>348557.0</td>\n",
              "      <td>356387.0</td>\n",
              "      <td>361974.0</td>\n",
              "      <td>366299.0</td>\n",
              "      <td>373167.0</td>\n",
              "      <td>380762.0</td>\n",
              "      <td>392049.0</td>\n",
              "      <td>403291.0</td>\n",
              "      <td>418005.0</td>\n",
              "      <td>429181.0</td>\n",
              "      <td>437866.0</td>\n",
              "      <td>449275.0</td>\n",
              "      <td>464239.0</td>\n",
              "      <td>481013.0</td>\n",
              "      <td>499694.0</td>\n",
              "      <td>518753.0</td>\n",
              "      <td>532930.0</td>\n",
              "      <td>545027.0</td>\n",
              "      <td>560379.0</td>\n",
              "      <td>577593.0</td>\n",
              "      <td>597583.0</td>\n",
              "      <td>619089.0</td>\n",
              "      <td>642488.0</td>\n",
              "      <td>658505.0</td>\n",
              "      <td>671868.0</td>\n",
              "      <td>687200.0</td>\n",
              "      <td>705687.0</td>\n",
              "      <td>727553.0</td>\n",
              "      <td>751095.0</td>\n",
              "    </tr>\n",
              "    <tr>\n",
              "      <th>std</th>\n",
              "      <td>NaN</td>\n",
              "      <td>NaN</td>\n",
              "      <td>NaN</td>\n",
              "      <td>NaN</td>\n",
              "      <td>NaN</td>\n",
              "      <td>NaN</td>\n",
              "      <td>NaN</td>\n",
              "      <td>NaN</td>\n",
              "      <td>NaN</td>\n",
              "      <td>NaN</td>\n",
              "      <td>NaN</td>\n",
              "      <td>NaN</td>\n",
              "      <td>NaN</td>\n",
              "      <td>NaN</td>\n",
              "      <td>NaN</td>\n",
              "      <td>NaN</td>\n",
              "      <td>NaN</td>\n",
              "      <td>NaN</td>\n",
              "      <td>NaN</td>\n",
              "      <td>NaN</td>\n",
              "      <td>NaN</td>\n",
              "      <td>NaN</td>\n",
              "      <td>NaN</td>\n",
              "      <td>NaN</td>\n",
              "      <td>NaN</td>\n",
              "      <td>NaN</td>\n",
              "      <td>NaN</td>\n",
              "      <td>NaN</td>\n",
              "      <td>NaN</td>\n",
              "      <td>NaN</td>\n",
              "      <td>NaN</td>\n",
              "      <td>NaN</td>\n",
              "      <td>NaN</td>\n",
              "      <td>NaN</td>\n",
              "      <td>NaN</td>\n",
              "      <td>NaN</td>\n",
              "      <td>NaN</td>\n",
              "      <td>NaN</td>\n",
              "      <td>NaN</td>\n",
              "      <td>NaN</td>\n",
              "      <td>...</td>\n",
              "      <td>NaN</td>\n",
              "      <td>NaN</td>\n",
              "      <td>NaN</td>\n",
              "      <td>NaN</td>\n",
              "      <td>NaN</td>\n",
              "      <td>NaN</td>\n",
              "      <td>NaN</td>\n",
              "      <td>NaN</td>\n",
              "      <td>NaN</td>\n",
              "      <td>NaN</td>\n",
              "      <td>NaN</td>\n",
              "      <td>NaN</td>\n",
              "      <td>NaN</td>\n",
              "      <td>NaN</td>\n",
              "      <td>NaN</td>\n",
              "      <td>NaN</td>\n",
              "      <td>NaN</td>\n",
              "      <td>NaN</td>\n",
              "      <td>NaN</td>\n",
              "      <td>NaN</td>\n",
              "      <td>NaN</td>\n",
              "      <td>NaN</td>\n",
              "      <td>NaN</td>\n",
              "      <td>NaN</td>\n",
              "      <td>NaN</td>\n",
              "      <td>NaN</td>\n",
              "      <td>NaN</td>\n",
              "      <td>NaN</td>\n",
              "      <td>NaN</td>\n",
              "      <td>NaN</td>\n",
              "      <td>NaN</td>\n",
              "      <td>NaN</td>\n",
              "      <td>NaN</td>\n",
              "      <td>NaN</td>\n",
              "      <td>NaN</td>\n",
              "      <td>NaN</td>\n",
              "      <td>NaN</td>\n",
              "      <td>NaN</td>\n",
              "      <td>NaN</td>\n",
              "      <td>NaN</td>\n",
              "    </tr>\n",
              "    <tr>\n",
              "      <th>min</th>\n",
              "      <td>NaN</td>\n",
              "      <td>51.165691</td>\n",
              "      <td>10.451526</td>\n",
              "      <td>0.0</td>\n",
              "      <td>0.0</td>\n",
              "      <td>0.0</td>\n",
              "      <td>0.0</td>\n",
              "      <td>0.0</td>\n",
              "      <td>0.0</td>\n",
              "      <td>1.0</td>\n",
              "      <td>4.0</td>\n",
              "      <td>4.0</td>\n",
              "      <td>5.0</td>\n",
              "      <td>7.0</td>\n",
              "      <td>8.0</td>\n",
              "      <td>9.0</td>\n",
              "      <td>11.0</td>\n",
              "      <td>11.0</td>\n",
              "      <td>11.0</td>\n",
              "      <td>12.0</td>\n",
              "      <td>13.0</td>\n",
              "      <td>13.0</td>\n",
              "      <td>13.0</td>\n",
              "      <td>13.0</td>\n",
              "      <td>15.0</td>\n",
              "      <td>15.0</td>\n",
              "      <td>15.0</td>\n",
              "      <td>15.0</td>\n",
              "      <td>15.0</td>\n",
              "      <td>15.0</td>\n",
              "      <td>15.0</td>\n",
              "      <td>15.0</td>\n",
              "      <td>15.0</td>\n",
              "      <td>15.0</td>\n",
              "      <td>15.0</td>\n",
              "      <td>15.0</td>\n",
              "      <td>15.0</td>\n",
              "      <td>15.0</td>\n",
              "      <td>17.0</td>\n",
              "      <td>21.0</td>\n",
              "      <td>...</td>\n",
              "      <td>300619.0</td>\n",
              "      <td>303258.0</td>\n",
              "      <td>306086.0</td>\n",
              "      <td>310144.0</td>\n",
              "      <td>314660.0</td>\n",
              "      <td>319381.0</td>\n",
              "      <td>322864.0</td>\n",
              "      <td>325331.0</td>\n",
              "      <td>329453.0</td>\n",
              "      <td>334585.0</td>\n",
              "      <td>341223.0</td>\n",
              "      <td>348557.0</td>\n",
              "      <td>356387.0</td>\n",
              "      <td>361974.0</td>\n",
              "      <td>366299.0</td>\n",
              "      <td>373167.0</td>\n",
              "      <td>380762.0</td>\n",
              "      <td>392049.0</td>\n",
              "      <td>403291.0</td>\n",
              "      <td>418005.0</td>\n",
              "      <td>429181.0</td>\n",
              "      <td>437866.0</td>\n",
              "      <td>449275.0</td>\n",
              "      <td>464239.0</td>\n",
              "      <td>481013.0</td>\n",
              "      <td>499694.0</td>\n",
              "      <td>518753.0</td>\n",
              "      <td>532930.0</td>\n",
              "      <td>545027.0</td>\n",
              "      <td>560379.0</td>\n",
              "      <td>577593.0</td>\n",
              "      <td>597583.0</td>\n",
              "      <td>619089.0</td>\n",
              "      <td>642488.0</td>\n",
              "      <td>658505.0</td>\n",
              "      <td>671868.0</td>\n",
              "      <td>687200.0</td>\n",
              "      <td>705687.0</td>\n",
              "      <td>727553.0</td>\n",
              "      <td>751095.0</td>\n",
              "    </tr>\n",
              "    <tr>\n",
              "      <th>25%</th>\n",
              "      <td>NaN</td>\n",
              "      <td>51.165691</td>\n",
              "      <td>10.451526</td>\n",
              "      <td>0.0</td>\n",
              "      <td>0.0</td>\n",
              "      <td>0.0</td>\n",
              "      <td>0.0</td>\n",
              "      <td>0.0</td>\n",
              "      <td>0.0</td>\n",
              "      <td>1.0</td>\n",
              "      <td>4.0</td>\n",
              "      <td>4.0</td>\n",
              "      <td>5.0</td>\n",
              "      <td>7.0</td>\n",
              "      <td>8.0</td>\n",
              "      <td>9.0</td>\n",
              "      <td>11.0</td>\n",
              "      <td>11.0</td>\n",
              "      <td>11.0</td>\n",
              "      <td>12.0</td>\n",
              "      <td>13.0</td>\n",
              "      <td>13.0</td>\n",
              "      <td>13.0</td>\n",
              "      <td>13.0</td>\n",
              "      <td>15.0</td>\n",
              "      <td>15.0</td>\n",
              "      <td>15.0</td>\n",
              "      <td>15.0</td>\n",
              "      <td>15.0</td>\n",
              "      <td>15.0</td>\n",
              "      <td>15.0</td>\n",
              "      <td>15.0</td>\n",
              "      <td>15.0</td>\n",
              "      <td>15.0</td>\n",
              "      <td>15.0</td>\n",
              "      <td>15.0</td>\n",
              "      <td>15.0</td>\n",
              "      <td>15.0</td>\n",
              "      <td>17.0</td>\n",
              "      <td>21.0</td>\n",
              "      <td>...</td>\n",
              "      <td>300619.0</td>\n",
              "      <td>303258.0</td>\n",
              "      <td>306086.0</td>\n",
              "      <td>310144.0</td>\n",
              "      <td>314660.0</td>\n",
              "      <td>319381.0</td>\n",
              "      <td>322864.0</td>\n",
              "      <td>325331.0</td>\n",
              "      <td>329453.0</td>\n",
              "      <td>334585.0</td>\n",
              "      <td>341223.0</td>\n",
              "      <td>348557.0</td>\n",
              "      <td>356387.0</td>\n",
              "      <td>361974.0</td>\n",
              "      <td>366299.0</td>\n",
              "      <td>373167.0</td>\n",
              "      <td>380762.0</td>\n",
              "      <td>392049.0</td>\n",
              "      <td>403291.0</td>\n",
              "      <td>418005.0</td>\n",
              "      <td>429181.0</td>\n",
              "      <td>437866.0</td>\n",
              "      <td>449275.0</td>\n",
              "      <td>464239.0</td>\n",
              "      <td>481013.0</td>\n",
              "      <td>499694.0</td>\n",
              "      <td>518753.0</td>\n",
              "      <td>532930.0</td>\n",
              "      <td>545027.0</td>\n",
              "      <td>560379.0</td>\n",
              "      <td>577593.0</td>\n",
              "      <td>597583.0</td>\n",
              "      <td>619089.0</td>\n",
              "      <td>642488.0</td>\n",
              "      <td>658505.0</td>\n",
              "      <td>671868.0</td>\n",
              "      <td>687200.0</td>\n",
              "      <td>705687.0</td>\n",
              "      <td>727553.0</td>\n",
              "      <td>751095.0</td>\n",
              "    </tr>\n",
              "    <tr>\n",
              "      <th>50%</th>\n",
              "      <td>NaN</td>\n",
              "      <td>51.165691</td>\n",
              "      <td>10.451526</td>\n",
              "      <td>0.0</td>\n",
              "      <td>0.0</td>\n",
              "      <td>0.0</td>\n",
              "      <td>0.0</td>\n",
              "      <td>0.0</td>\n",
              "      <td>0.0</td>\n",
              "      <td>1.0</td>\n",
              "      <td>4.0</td>\n",
              "      <td>4.0</td>\n",
              "      <td>5.0</td>\n",
              "      <td>7.0</td>\n",
              "      <td>8.0</td>\n",
              "      <td>9.0</td>\n",
              "      <td>11.0</td>\n",
              "      <td>11.0</td>\n",
              "      <td>11.0</td>\n",
              "      <td>12.0</td>\n",
              "      <td>13.0</td>\n",
              "      <td>13.0</td>\n",
              "      <td>13.0</td>\n",
              "      <td>13.0</td>\n",
              "      <td>15.0</td>\n",
              "      <td>15.0</td>\n",
              "      <td>15.0</td>\n",
              "      <td>15.0</td>\n",
              "      <td>15.0</td>\n",
              "      <td>15.0</td>\n",
              "      <td>15.0</td>\n",
              "      <td>15.0</td>\n",
              "      <td>15.0</td>\n",
              "      <td>15.0</td>\n",
              "      <td>15.0</td>\n",
              "      <td>15.0</td>\n",
              "      <td>15.0</td>\n",
              "      <td>15.0</td>\n",
              "      <td>17.0</td>\n",
              "      <td>21.0</td>\n",
              "      <td>...</td>\n",
              "      <td>300619.0</td>\n",
              "      <td>303258.0</td>\n",
              "      <td>306086.0</td>\n",
              "      <td>310144.0</td>\n",
              "      <td>314660.0</td>\n",
              "      <td>319381.0</td>\n",
              "      <td>322864.0</td>\n",
              "      <td>325331.0</td>\n",
              "      <td>329453.0</td>\n",
              "      <td>334585.0</td>\n",
              "      <td>341223.0</td>\n",
              "      <td>348557.0</td>\n",
              "      <td>356387.0</td>\n",
              "      <td>361974.0</td>\n",
              "      <td>366299.0</td>\n",
              "      <td>373167.0</td>\n",
              "      <td>380762.0</td>\n",
              "      <td>392049.0</td>\n",
              "      <td>403291.0</td>\n",
              "      <td>418005.0</td>\n",
              "      <td>429181.0</td>\n",
              "      <td>437866.0</td>\n",
              "      <td>449275.0</td>\n",
              "      <td>464239.0</td>\n",
              "      <td>481013.0</td>\n",
              "      <td>499694.0</td>\n",
              "      <td>518753.0</td>\n",
              "      <td>532930.0</td>\n",
              "      <td>545027.0</td>\n",
              "      <td>560379.0</td>\n",
              "      <td>577593.0</td>\n",
              "      <td>597583.0</td>\n",
              "      <td>619089.0</td>\n",
              "      <td>642488.0</td>\n",
              "      <td>658505.0</td>\n",
              "      <td>671868.0</td>\n",
              "      <td>687200.0</td>\n",
              "      <td>705687.0</td>\n",
              "      <td>727553.0</td>\n",
              "      <td>751095.0</td>\n",
              "    </tr>\n",
              "    <tr>\n",
              "      <th>75%</th>\n",
              "      <td>NaN</td>\n",
              "      <td>51.165691</td>\n",
              "      <td>10.451526</td>\n",
              "      <td>0.0</td>\n",
              "      <td>0.0</td>\n",
              "      <td>0.0</td>\n",
              "      <td>0.0</td>\n",
              "      <td>0.0</td>\n",
              "      <td>0.0</td>\n",
              "      <td>1.0</td>\n",
              "      <td>4.0</td>\n",
              "      <td>4.0</td>\n",
              "      <td>5.0</td>\n",
              "      <td>7.0</td>\n",
              "      <td>8.0</td>\n",
              "      <td>9.0</td>\n",
              "      <td>11.0</td>\n",
              "      <td>11.0</td>\n",
              "      <td>11.0</td>\n",
              "      <td>12.0</td>\n",
              "      <td>13.0</td>\n",
              "      <td>13.0</td>\n",
              "      <td>13.0</td>\n",
              "      <td>13.0</td>\n",
              "      <td>15.0</td>\n",
              "      <td>15.0</td>\n",
              "      <td>15.0</td>\n",
              "      <td>15.0</td>\n",
              "      <td>15.0</td>\n",
              "      <td>15.0</td>\n",
              "      <td>15.0</td>\n",
              "      <td>15.0</td>\n",
              "      <td>15.0</td>\n",
              "      <td>15.0</td>\n",
              "      <td>15.0</td>\n",
              "      <td>15.0</td>\n",
              "      <td>15.0</td>\n",
              "      <td>15.0</td>\n",
              "      <td>17.0</td>\n",
              "      <td>21.0</td>\n",
              "      <td>...</td>\n",
              "      <td>300619.0</td>\n",
              "      <td>303258.0</td>\n",
              "      <td>306086.0</td>\n",
              "      <td>310144.0</td>\n",
              "      <td>314660.0</td>\n",
              "      <td>319381.0</td>\n",
              "      <td>322864.0</td>\n",
              "      <td>325331.0</td>\n",
              "      <td>329453.0</td>\n",
              "      <td>334585.0</td>\n",
              "      <td>341223.0</td>\n",
              "      <td>348557.0</td>\n",
              "      <td>356387.0</td>\n",
              "      <td>361974.0</td>\n",
              "      <td>366299.0</td>\n",
              "      <td>373167.0</td>\n",
              "      <td>380762.0</td>\n",
              "      <td>392049.0</td>\n",
              "      <td>403291.0</td>\n",
              "      <td>418005.0</td>\n",
              "      <td>429181.0</td>\n",
              "      <td>437866.0</td>\n",
              "      <td>449275.0</td>\n",
              "      <td>464239.0</td>\n",
              "      <td>481013.0</td>\n",
              "      <td>499694.0</td>\n",
              "      <td>518753.0</td>\n",
              "      <td>532930.0</td>\n",
              "      <td>545027.0</td>\n",
              "      <td>560379.0</td>\n",
              "      <td>577593.0</td>\n",
              "      <td>597583.0</td>\n",
              "      <td>619089.0</td>\n",
              "      <td>642488.0</td>\n",
              "      <td>658505.0</td>\n",
              "      <td>671868.0</td>\n",
              "      <td>687200.0</td>\n",
              "      <td>705687.0</td>\n",
              "      <td>727553.0</td>\n",
              "      <td>751095.0</td>\n",
              "    </tr>\n",
              "    <tr>\n",
              "      <th>max</th>\n",
              "      <td>NaN</td>\n",
              "      <td>51.165691</td>\n",
              "      <td>10.451526</td>\n",
              "      <td>0.0</td>\n",
              "      <td>0.0</td>\n",
              "      <td>0.0</td>\n",
              "      <td>0.0</td>\n",
              "      <td>0.0</td>\n",
              "      <td>0.0</td>\n",
              "      <td>1.0</td>\n",
              "      <td>4.0</td>\n",
              "      <td>4.0</td>\n",
              "      <td>5.0</td>\n",
              "      <td>7.0</td>\n",
              "      <td>8.0</td>\n",
              "      <td>9.0</td>\n",
              "      <td>11.0</td>\n",
              "      <td>11.0</td>\n",
              "      <td>11.0</td>\n",
              "      <td>12.0</td>\n",
              "      <td>13.0</td>\n",
              "      <td>13.0</td>\n",
              "      <td>13.0</td>\n",
              "      <td>13.0</td>\n",
              "      <td>15.0</td>\n",
              "      <td>15.0</td>\n",
              "      <td>15.0</td>\n",
              "      <td>15.0</td>\n",
              "      <td>15.0</td>\n",
              "      <td>15.0</td>\n",
              "      <td>15.0</td>\n",
              "      <td>15.0</td>\n",
              "      <td>15.0</td>\n",
              "      <td>15.0</td>\n",
              "      <td>15.0</td>\n",
              "      <td>15.0</td>\n",
              "      <td>15.0</td>\n",
              "      <td>15.0</td>\n",
              "      <td>17.0</td>\n",
              "      <td>21.0</td>\n",
              "      <td>...</td>\n",
              "      <td>300619.0</td>\n",
              "      <td>303258.0</td>\n",
              "      <td>306086.0</td>\n",
              "      <td>310144.0</td>\n",
              "      <td>314660.0</td>\n",
              "      <td>319381.0</td>\n",
              "      <td>322864.0</td>\n",
              "      <td>325331.0</td>\n",
              "      <td>329453.0</td>\n",
              "      <td>334585.0</td>\n",
              "      <td>341223.0</td>\n",
              "      <td>348557.0</td>\n",
              "      <td>356387.0</td>\n",
              "      <td>361974.0</td>\n",
              "      <td>366299.0</td>\n",
              "      <td>373167.0</td>\n",
              "      <td>380762.0</td>\n",
              "      <td>392049.0</td>\n",
              "      <td>403291.0</td>\n",
              "      <td>418005.0</td>\n",
              "      <td>429181.0</td>\n",
              "      <td>437866.0</td>\n",
              "      <td>449275.0</td>\n",
              "      <td>464239.0</td>\n",
              "      <td>481013.0</td>\n",
              "      <td>499694.0</td>\n",
              "      <td>518753.0</td>\n",
              "      <td>532930.0</td>\n",
              "      <td>545027.0</td>\n",
              "      <td>560379.0</td>\n",
              "      <td>577593.0</td>\n",
              "      <td>597583.0</td>\n",
              "      <td>619089.0</td>\n",
              "      <td>642488.0</td>\n",
              "      <td>658505.0</td>\n",
              "      <td>671868.0</td>\n",
              "      <td>687200.0</td>\n",
              "      <td>705687.0</td>\n",
              "      <td>727553.0</td>\n",
              "      <td>751095.0</td>\n",
              "    </tr>\n",
              "  </tbody>\n",
              "</table>\n",
              "<p>8 rows × 300 columns</p>\n",
              "</div>"
            ],
            "text/plain": [
              "       Province/State        Lat       Long  ...  11/11/2020  11/12/2020  11/13/2020\n",
              "count             0.0   1.000000   1.000000  ...         1.0         1.0         1.0\n",
              "mean              NaN  51.165691  10.451526  ...    705687.0    727553.0    751095.0\n",
              "std               NaN        NaN        NaN  ...         NaN         NaN         NaN\n",
              "min               NaN  51.165691  10.451526  ...    705687.0    727553.0    751095.0\n",
              "25%               NaN  51.165691  10.451526  ...    705687.0    727553.0    751095.0\n",
              "50%               NaN  51.165691  10.451526  ...    705687.0    727553.0    751095.0\n",
              "75%               NaN  51.165691  10.451526  ...    705687.0    727553.0    751095.0\n",
              "max               NaN  51.165691  10.451526  ...    705687.0    727553.0    751095.0\n",
              "\n",
              "[8 rows x 300 columns]"
            ]
          },
          "metadata": {
            "tags": []
          },
          "execution_count": 62
        }
      ]
    },
    {
      "cell_type": "code",
      "metadata": {
        "id": "TWKEBZ9Jv7Qa",
        "colab": {
          "base_uri": "https://localhost:8080/",
          "height": 129
        },
        "outputId": "1648f448-5bf1-4ded-964c-d6ee646ea3dc"
      },
      "source": [
        "data.head()"
      ],
      "execution_count": null,
      "outputs": [
        {
          "output_type": "execute_result",
          "data": {
            "text/html": [
              "<div>\n",
              "<style scoped>\n",
              "    .dataframe tbody tr th:only-of-type {\n",
              "        vertical-align: middle;\n",
              "    }\n",
              "\n",
              "    .dataframe tbody tr th {\n",
              "        vertical-align: top;\n",
              "    }\n",
              "\n",
              "    .dataframe thead th {\n",
              "        text-align: right;\n",
              "    }\n",
              "</style>\n",
              "<table border=\"1\" class=\"dataframe\">\n",
              "  <thead>\n",
              "    <tr style=\"text-align: right;\">\n",
              "      <th></th>\n",
              "      <th>Province/State</th>\n",
              "      <th>Country/Region</th>\n",
              "      <th>Lat</th>\n",
              "      <th>Long</th>\n",
              "      <th>1/22/2020</th>\n",
              "      <th>1/23/2020</th>\n",
              "      <th>1/24/2020</th>\n",
              "      <th>1/25/2020</th>\n",
              "      <th>1/26/2020</th>\n",
              "      <th>1/27/2020</th>\n",
              "      <th>1/28/2020</th>\n",
              "      <th>1/29/2020</th>\n",
              "      <th>1/30/2020</th>\n",
              "      <th>1/31/2020</th>\n",
              "      <th>2/1/2020</th>\n",
              "      <th>2/2/2020</th>\n",
              "      <th>2/3/2020</th>\n",
              "      <th>2/4/2020</th>\n",
              "      <th>2/5/2020</th>\n",
              "      <th>2/6/2020</th>\n",
              "      <th>2/7/2020</th>\n",
              "      <th>2/8/2020</th>\n",
              "      <th>2/9/2020</th>\n",
              "      <th>2/10/2020</th>\n",
              "      <th>2/11/2020</th>\n",
              "      <th>2/12/2020</th>\n",
              "      <th>2/13/2020</th>\n",
              "      <th>2/14/2020</th>\n",
              "      <th>2/15/2020</th>\n",
              "      <th>2/16/2020</th>\n",
              "      <th>2/17/2020</th>\n",
              "      <th>2/18/2020</th>\n",
              "      <th>2/19/2020</th>\n",
              "      <th>2/20/2020</th>\n",
              "      <th>2/21/2020</th>\n",
              "      <th>2/22/2020</th>\n",
              "      <th>2/23/2020</th>\n",
              "      <th>2/24/2020</th>\n",
              "      <th>2/25/2020</th>\n",
              "      <th>2/26/2020</th>\n",
              "      <th>...</th>\n",
              "      <th>10/5/2020</th>\n",
              "      <th>10/6/2020</th>\n",
              "      <th>10/7/2020</th>\n",
              "      <th>10/8/2020</th>\n",
              "      <th>10/9/2020</th>\n",
              "      <th>10/10/2020</th>\n",
              "      <th>10/11/2020</th>\n",
              "      <th>10/12/2020</th>\n",
              "      <th>10/13/2020</th>\n",
              "      <th>10/14/2020</th>\n",
              "      <th>10/15/2020</th>\n",
              "      <th>10/16/2020</th>\n",
              "      <th>10/17/2020</th>\n",
              "      <th>10/18/2020</th>\n",
              "      <th>10/19/2020</th>\n",
              "      <th>10/20/2020</th>\n",
              "      <th>10/21/2020</th>\n",
              "      <th>10/22/2020</th>\n",
              "      <th>10/23/2020</th>\n",
              "      <th>10/24/2020</th>\n",
              "      <th>10/25/2020</th>\n",
              "      <th>10/26/2020</th>\n",
              "      <th>10/27/2020</th>\n",
              "      <th>10/28/2020</th>\n",
              "      <th>10/29/2020</th>\n",
              "      <th>10/30/2020</th>\n",
              "      <th>10/31/2020</th>\n",
              "      <th>11/1/2020</th>\n",
              "      <th>11/2/2020</th>\n",
              "      <th>11/3/2020</th>\n",
              "      <th>11/4/2020</th>\n",
              "      <th>11/5/2020</th>\n",
              "      <th>11/6/2020</th>\n",
              "      <th>11/7/2020</th>\n",
              "      <th>11/8/2020</th>\n",
              "      <th>11/9/2020</th>\n",
              "      <th>11/10/2020</th>\n",
              "      <th>11/11/2020</th>\n",
              "      <th>11/12/2020</th>\n",
              "      <th>11/13/2020</th>\n",
              "    </tr>\n",
              "  </thead>\n",
              "  <tbody>\n",
              "    <tr>\n",
              "      <th>0</th>\n",
              "      <td>NaN</td>\n",
              "      <td>Germany</td>\n",
              "      <td>51.165691</td>\n",
              "      <td>10.451526</td>\n",
              "      <td>0</td>\n",
              "      <td>0</td>\n",
              "      <td>0</td>\n",
              "      <td>0</td>\n",
              "      <td>0</td>\n",
              "      <td>0</td>\n",
              "      <td>1</td>\n",
              "      <td>4</td>\n",
              "      <td>4</td>\n",
              "      <td>5</td>\n",
              "      <td>7</td>\n",
              "      <td>8</td>\n",
              "      <td>9</td>\n",
              "      <td>11</td>\n",
              "      <td>11</td>\n",
              "      <td>11</td>\n",
              "      <td>12</td>\n",
              "      <td>13</td>\n",
              "      <td>13</td>\n",
              "      <td>13</td>\n",
              "      <td>13</td>\n",
              "      <td>15</td>\n",
              "      <td>15</td>\n",
              "      <td>15</td>\n",
              "      <td>15</td>\n",
              "      <td>15</td>\n",
              "      <td>15</td>\n",
              "      <td>15</td>\n",
              "      <td>15</td>\n",
              "      <td>15</td>\n",
              "      <td>15</td>\n",
              "      <td>15</td>\n",
              "      <td>15</td>\n",
              "      <td>15</td>\n",
              "      <td>15</td>\n",
              "      <td>17</td>\n",
              "      <td>...</td>\n",
              "      <td>300619</td>\n",
              "      <td>303258</td>\n",
              "      <td>306086</td>\n",
              "      <td>310144</td>\n",
              "      <td>314660</td>\n",
              "      <td>319381</td>\n",
              "      <td>322864</td>\n",
              "      <td>325331</td>\n",
              "      <td>329453</td>\n",
              "      <td>334585</td>\n",
              "      <td>341223</td>\n",
              "      <td>348557</td>\n",
              "      <td>356387</td>\n",
              "      <td>361974</td>\n",
              "      <td>366299</td>\n",
              "      <td>373167</td>\n",
              "      <td>380762</td>\n",
              "      <td>392049</td>\n",
              "      <td>403291</td>\n",
              "      <td>418005</td>\n",
              "      <td>429181</td>\n",
              "      <td>437866</td>\n",
              "      <td>449275</td>\n",
              "      <td>464239</td>\n",
              "      <td>481013</td>\n",
              "      <td>499694</td>\n",
              "      <td>518753</td>\n",
              "      <td>532930</td>\n",
              "      <td>545027</td>\n",
              "      <td>560379</td>\n",
              "      <td>577593</td>\n",
              "      <td>597583</td>\n",
              "      <td>619089</td>\n",
              "      <td>642488</td>\n",
              "      <td>658505</td>\n",
              "      <td>671868</td>\n",
              "      <td>687200</td>\n",
              "      <td>705687</td>\n",
              "      <td>727553</td>\n",
              "      <td>751095</td>\n",
              "    </tr>\n",
              "  </tbody>\n",
              "</table>\n",
              "<p>1 rows × 301 columns</p>\n",
              "</div>"
            ],
            "text/plain": [
              "   Province/State Country/Region        Lat  ...  11/11/2020  11/12/2020  11/13/2020\n",
              "0             NaN        Germany  51.165691  ...      705687      727553      751095\n",
              "\n",
              "[1 rows x 301 columns]"
            ]
          },
          "metadata": {
            "tags": []
          },
          "execution_count": 63
        }
      ]
    },
    {
      "cell_type": "code",
      "metadata": {
        "id": "I51As9e5v-St",
        "colab": {
          "base_uri": "https://localhost:8080/",
          "height": 129
        },
        "outputId": "a2be4182-a860-40cd-ee25-9a531276ca36"
      },
      "source": [
        "df = data.iloc[:,4:]\n",
        "df.head()"
      ],
      "execution_count": null,
      "outputs": [
        {
          "output_type": "execute_result",
          "data": {
            "text/html": [
              "<div>\n",
              "<style scoped>\n",
              "    .dataframe tbody tr th:only-of-type {\n",
              "        vertical-align: middle;\n",
              "    }\n",
              "\n",
              "    .dataframe tbody tr th {\n",
              "        vertical-align: top;\n",
              "    }\n",
              "\n",
              "    .dataframe thead th {\n",
              "        text-align: right;\n",
              "    }\n",
              "</style>\n",
              "<table border=\"1\" class=\"dataframe\">\n",
              "  <thead>\n",
              "    <tr style=\"text-align: right;\">\n",
              "      <th></th>\n",
              "      <th>1/22/2020</th>\n",
              "      <th>1/23/2020</th>\n",
              "      <th>1/24/2020</th>\n",
              "      <th>1/25/2020</th>\n",
              "      <th>1/26/2020</th>\n",
              "      <th>1/27/2020</th>\n",
              "      <th>1/28/2020</th>\n",
              "      <th>1/29/2020</th>\n",
              "      <th>1/30/2020</th>\n",
              "      <th>1/31/2020</th>\n",
              "      <th>2/1/2020</th>\n",
              "      <th>2/2/2020</th>\n",
              "      <th>2/3/2020</th>\n",
              "      <th>2/4/2020</th>\n",
              "      <th>2/5/2020</th>\n",
              "      <th>2/6/2020</th>\n",
              "      <th>2/7/2020</th>\n",
              "      <th>2/8/2020</th>\n",
              "      <th>2/9/2020</th>\n",
              "      <th>2/10/2020</th>\n",
              "      <th>2/11/2020</th>\n",
              "      <th>2/12/2020</th>\n",
              "      <th>2/13/2020</th>\n",
              "      <th>2/14/2020</th>\n",
              "      <th>2/15/2020</th>\n",
              "      <th>2/16/2020</th>\n",
              "      <th>2/17/2020</th>\n",
              "      <th>2/18/2020</th>\n",
              "      <th>2/19/2020</th>\n",
              "      <th>2/20/2020</th>\n",
              "      <th>2/21/2020</th>\n",
              "      <th>2/22/2020</th>\n",
              "      <th>2/23/2020</th>\n",
              "      <th>2/24/2020</th>\n",
              "      <th>2/25/2020</th>\n",
              "      <th>2/26/2020</th>\n",
              "      <th>2/27/2020</th>\n",
              "      <th>2/28/2020</th>\n",
              "      <th>2/29/2020</th>\n",
              "      <th>3/1/2020</th>\n",
              "      <th>...</th>\n",
              "      <th>10/5/2020</th>\n",
              "      <th>10/6/2020</th>\n",
              "      <th>10/7/2020</th>\n",
              "      <th>10/8/2020</th>\n",
              "      <th>10/9/2020</th>\n",
              "      <th>10/10/2020</th>\n",
              "      <th>10/11/2020</th>\n",
              "      <th>10/12/2020</th>\n",
              "      <th>10/13/2020</th>\n",
              "      <th>10/14/2020</th>\n",
              "      <th>10/15/2020</th>\n",
              "      <th>10/16/2020</th>\n",
              "      <th>10/17/2020</th>\n",
              "      <th>10/18/2020</th>\n",
              "      <th>10/19/2020</th>\n",
              "      <th>10/20/2020</th>\n",
              "      <th>10/21/2020</th>\n",
              "      <th>10/22/2020</th>\n",
              "      <th>10/23/2020</th>\n",
              "      <th>10/24/2020</th>\n",
              "      <th>10/25/2020</th>\n",
              "      <th>10/26/2020</th>\n",
              "      <th>10/27/2020</th>\n",
              "      <th>10/28/2020</th>\n",
              "      <th>10/29/2020</th>\n",
              "      <th>10/30/2020</th>\n",
              "      <th>10/31/2020</th>\n",
              "      <th>11/1/2020</th>\n",
              "      <th>11/2/2020</th>\n",
              "      <th>11/3/2020</th>\n",
              "      <th>11/4/2020</th>\n",
              "      <th>11/5/2020</th>\n",
              "      <th>11/6/2020</th>\n",
              "      <th>11/7/2020</th>\n",
              "      <th>11/8/2020</th>\n",
              "      <th>11/9/2020</th>\n",
              "      <th>11/10/2020</th>\n",
              "      <th>11/11/2020</th>\n",
              "      <th>11/12/2020</th>\n",
              "      <th>11/13/2020</th>\n",
              "    </tr>\n",
              "  </thead>\n",
              "  <tbody>\n",
              "    <tr>\n",
              "      <th>0</th>\n",
              "      <td>0</td>\n",
              "      <td>0</td>\n",
              "      <td>0</td>\n",
              "      <td>0</td>\n",
              "      <td>0</td>\n",
              "      <td>0</td>\n",
              "      <td>1</td>\n",
              "      <td>4</td>\n",
              "      <td>4</td>\n",
              "      <td>5</td>\n",
              "      <td>7</td>\n",
              "      <td>8</td>\n",
              "      <td>9</td>\n",
              "      <td>11</td>\n",
              "      <td>11</td>\n",
              "      <td>11</td>\n",
              "      <td>12</td>\n",
              "      <td>13</td>\n",
              "      <td>13</td>\n",
              "      <td>13</td>\n",
              "      <td>13</td>\n",
              "      <td>15</td>\n",
              "      <td>15</td>\n",
              "      <td>15</td>\n",
              "      <td>15</td>\n",
              "      <td>15</td>\n",
              "      <td>15</td>\n",
              "      <td>15</td>\n",
              "      <td>15</td>\n",
              "      <td>15</td>\n",
              "      <td>15</td>\n",
              "      <td>15</td>\n",
              "      <td>15</td>\n",
              "      <td>15</td>\n",
              "      <td>15</td>\n",
              "      <td>17</td>\n",
              "      <td>21</td>\n",
              "      <td>47</td>\n",
              "      <td>57</td>\n",
              "      <td>111</td>\n",
              "      <td>...</td>\n",
              "      <td>300619</td>\n",
              "      <td>303258</td>\n",
              "      <td>306086</td>\n",
              "      <td>310144</td>\n",
              "      <td>314660</td>\n",
              "      <td>319381</td>\n",
              "      <td>322864</td>\n",
              "      <td>325331</td>\n",
              "      <td>329453</td>\n",
              "      <td>334585</td>\n",
              "      <td>341223</td>\n",
              "      <td>348557</td>\n",
              "      <td>356387</td>\n",
              "      <td>361974</td>\n",
              "      <td>366299</td>\n",
              "      <td>373167</td>\n",
              "      <td>380762</td>\n",
              "      <td>392049</td>\n",
              "      <td>403291</td>\n",
              "      <td>418005</td>\n",
              "      <td>429181</td>\n",
              "      <td>437866</td>\n",
              "      <td>449275</td>\n",
              "      <td>464239</td>\n",
              "      <td>481013</td>\n",
              "      <td>499694</td>\n",
              "      <td>518753</td>\n",
              "      <td>532930</td>\n",
              "      <td>545027</td>\n",
              "      <td>560379</td>\n",
              "      <td>577593</td>\n",
              "      <td>597583</td>\n",
              "      <td>619089</td>\n",
              "      <td>642488</td>\n",
              "      <td>658505</td>\n",
              "      <td>671868</td>\n",
              "      <td>687200</td>\n",
              "      <td>705687</td>\n",
              "      <td>727553</td>\n",
              "      <td>751095</td>\n",
              "    </tr>\n",
              "  </tbody>\n",
              "</table>\n",
              "<p>1 rows × 297 columns</p>\n",
              "</div>"
            ],
            "text/plain": [
              "   1/22/2020  1/23/2020  1/24/2020  ...  11/11/2020  11/12/2020  11/13/2020\n",
              "0          0          0          0  ...      705687      727553      751095\n",
              "\n",
              "[1 rows x 297 columns]"
            ]
          },
          "metadata": {
            "tags": []
          },
          "execution_count": 64
        }
      ]
    },
    {
      "cell_type": "code",
      "metadata": {
        "id": "xS44d3Jlv_Sr",
        "colab": {
          "base_uri": "https://localhost:8080/"
        },
        "outputId": "7745eafa-3f92-4bc7-e9ca-dc0a667741f5"
      },
      "source": [
        "df.shape"
      ],
      "execution_count": null,
      "outputs": [
        {
          "output_type": "execute_result",
          "data": {
            "text/plain": [
              "(1, 297)"
            ]
          },
          "metadata": {
            "tags": []
          },
          "execution_count": 65
        }
      ]
    },
    {
      "cell_type": "code",
      "metadata": {
        "id": "tgJvcHq1wGqy",
        "colab": {
          "base_uri": "https://localhost:8080/",
          "height": 658
        },
        "outputId": "26995b70-fa9f-4bcd-b637-f59eb2f2cb33"
      },
      "source": [
        "# evaluate cases to increase\n",
        "daily_data = df.sum(axis=0)\n",
        "print('1/22/20',daily_data[0])\n",
        "print('1/23/20',daily_data[1])\n",
        "print('increment cases',daily_data[1]-daily_data[0])\n",
        "\n",
        "daily_data = df.sum(axis=0)\n",
        "daily_data.index = pd.to_datetime(daily_data.index)\n",
        "daily_data.head()\n",
        "\n",
        "plt.figure(figsize=(10, 10))\n",
        "plt.plot(daily_data)\n",
        "plt.title(\"Cumulative daily cases\");"
      ],
      "execution_count": null,
      "outputs": [
        {
          "output_type": "stream",
          "text": [
            "1/22/20 0\n",
            "1/23/20 0\n",
            "increment cases 0\n"
          ],
          "name": "stdout"
        },
        {
          "output_type": "display_data",
          "data": {
            "image/png": "[encoded data removed]",
            "text/plain": [
              "<Figure size 720x720 with 1 Axes>"
            ]
          },
          "metadata": {
            "tags": [],
            "needs_background": "light"
          }
        }
      ]
    },
    {
      "cell_type": "code",
      "metadata": {
        "id": "roLr0LAFwmbf"
      },
      "source": [
        "# evaluate cases to increase\n",
        "\n",
        "daily_data = df.sum(axis=0)\n",
        "print('1/22/20',daily_data[0])\n",
        "print('1/23/20',daily_data[1])\n",
        "print('increment cases',daily_data[1]-daily_data[0])\n",
        "\n",
        "daily_data = daily_data.diff().fillna(daily_data[0]).astype(np.int64)\n",
        "\n",
        "daily_data.index = pd.to_datetime(daily_data.index)\n",
        "daily_data.head()\n",
        "plt.figure(figsize=(10, 10))\n",
        "plt.plot(daily_data)\n",
        "plt.title(\" daily data\");"
      ],
      "execution_count": null,
      "outputs": []
    },
    {
      "cell_type": "code",
      "metadata": {
        "id": "c9SGUzB-zYL3",
        "colab": {
          "base_uri": "https://localhost:8080/"
        },
        "outputId": "5fc577ee-528b-4db4-e106-5b5d46ba2cc1"
      },
      "source": [
        "#It is better to view the data available shape and format.\n",
        "daily_data.shape,\n",
        "daily_data[:15]\n"
      ],
      "execution_count": null,
      "outputs": [
        {
          "output_type": "execute_result",
          "data": {
            "text/plain": [
              "2020-01-22    0\n",
              "2020-01-23    0\n",
              "2020-01-24    0\n",
              "2020-01-25    0\n",
              "2020-01-26    0\n",
              "2020-01-27    0\n",
              "2020-01-28    1\n",
              "2020-01-29    3\n",
              "2020-01-30    0\n",
              "2020-01-31    1\n",
              "2020-02-01    2\n",
              "2020-02-02    1\n",
              "2020-02-03    1\n",
              "2020-02-04    2\n",
              "2020-02-05    0\n",
              "dtype: int64"
            ]
          },
          "metadata": {
            "tags": []
          },
          "execution_count": 44
        }
      ]
    },
    {
      "cell_type": "code",
      "metadata": {
        "id": "mG9fhId9xPka",
        "colab": {
          "base_uri": "https://localhost:8080/"
        },
        "outputId": "601c7c4a-abaa-4b94-d09c-01c49d5a7bfb"
      },
      "source": [
        "mm_scaler = MinMaxScaler() #Bu aşamada ön işleme olarak 0-1 aralığına ölçeklendirerek MinMax Normalizasyonunu gerçekleştiriyoruz.\n",
        "mm_scaler = mm_scaler.fit(np.expand_dims(daily_data, axis=1))\n",
        "total_data = mm_scaler.transform(np.expand_dims(daily_data, axis=1))\n",
        "total_data.shape"
      ],
      "execution_count": null,
      "outputs": [
        {
          "output_type": "execute_result",
          "data": {
            "text/plain": [
              "(297, 1)"
            ]
          },
          "metadata": {
            "tags": []
          },
          "execution_count": 68
        }
      ]
    },
    {
      "cell_type": "code",
      "metadata": {
        "id": "4-iVikIDzjaI"
      },
      "source": [
        "#giriş ve çıkış verilerimizi oluşturuyoruz(x ve y olarak)verimizi daha küçük verilere dönüştüreceğiz.\n",
        "def split_sequences(sequences_data,sequence_length):\n",
        "    X,y = list(),list()\n",
        "    for i in range(len(sequences_data)-sequence_length-1):\n",
        "        \n",
        "        end_ix = i + sequence_length\n",
        "        #modelin girdi ve çıktı kısımlarını toplayın\n",
        "        seq_x, seq_y = sequences_data[i:(end_ix)],sequences_data[end_ix]\n",
        "        X.append(seq_x)\n",
        "        y.append(seq_y)\n",
        "    return np.array(X), np.array(y)"
      ],
      "execution_count": null,
      "outputs": []
    },
    {
      "cell_type": "code",
      "metadata": {
        "id": "CZELttDJzmQx"
      },
      "source": [
        "#sequence_length = 5 #previous notes of data can be remembered as 5 values\n",
        "X, y = split_sequences(sequences_data=total_data, sequence_length=5)"
      ],
      "execution_count": null,
      "outputs": []
    },
    {
      "cell_type": "code",
      "metadata": {
        "id": "gdFONdW3zpQm"
      },
      "source": [
        "#verileri numpy dizisinden torch.tensor'a dönüştür\n",
        "device = 'cuda' if torch.cuda.is_available() else 'cpu'\n",
        "X = torch.from_numpy(X).float().to(device)\n",
        "y = torch.from_numpy(y).float().to(device)"
      ],
      "execution_count": null,
      "outputs": []
    },
    {
      "cell_type": "code",
      "metadata": {
        "id": "LUAwMpr9ztAO",
        "colab": {
          "base_uri": "https://localhost:8080/"
        },
        "outputId": "cba70d77-aadb-477d-c0be-90042ce5da73"
      },
      "source": [
        "#Her eğitim örneği, 5geçmiş veri noktası için ve modelimizin tahmin etmesi gereken gerçek değer için bir label içerir.\n",
        "X[:4],X.type(),X.shape"
      ],
      "execution_count": null,
      "outputs": [
        {
          "output_type": "execute_result",
          "data": {
            "text/plain": [
              "(tensor([[[0.0000e+00],\n",
              "          [0.0000e+00],\n",
              "          [0.0000e+00],\n",
              "          [0.0000e+00],\n",
              "          [0.0000e+00]],\n",
              " \n",
              "         [[0.0000e+00],\n",
              "          [0.0000e+00],\n",
              "          [0.0000e+00],\n",
              "          [0.0000e+00],\n",
              "          [0.0000e+00]],\n",
              " \n",
              "         [[0.0000e+00],\n",
              "          [0.0000e+00],\n",
              "          [0.0000e+00],\n",
              "          [0.0000e+00],\n",
              "          [4.2477e-05]],\n",
              " \n",
              "         [[0.0000e+00],\n",
              "          [0.0000e+00],\n",
              "          [0.0000e+00],\n",
              "          [4.2477e-05],\n",
              "          [1.2743e-04]]]), 'torch.FloatTensor', torch.Size([291, 5, 1]))"
            ]
          },
          "metadata": {
            "tags": []
          },
          "execution_count": 74
        }
      ]
    },
    {
      "cell_type": "code",
      "metadata": {
        "id": "1H1IHYJCzt1t",
        "colab": {
          "base_uri": "https://localhost:8080/"
        },
        "outputId": "3ea335d9-13d9-4c8f-8bcb-ad8992f5125c"
      },
      "source": [
        "\n",
        "y[:10],y.type(),y.shape"
      ],
      "execution_count": null,
      "outputs": [
        {
          "output_type": "execute_result",
          "data": {
            "text/plain": [
              "(tensor([[0.0000e+00],\n",
              "         [4.2477e-05],\n",
              "         [1.2743e-04],\n",
              "         [0.0000e+00],\n",
              "         [4.2477e-05],\n",
              "         [8.4955e-05],\n",
              "         [4.2477e-05],\n",
              "         [4.2477e-05],\n",
              "         [8.4955e-05],\n",
              "         [0.0000e+00]]), 'torch.FloatTensor', torch.Size([291, 1]))"
            ]
          },
          "metadata": {
            "tags": []
          },
          "execution_count": 75
        }
      ]
    },
    {
      "cell_type": "code",
      "metadata": {
        "id": "ani6i3D4zwfO"
      },
      "source": [
        "#modelimizi oluşturduk. modelimizin karmaşıklığınıgenişleten bir sınıfa kapsülledik. modelimiz 3 method içeriyor.\n",
        "class FutureDataPrediction(nn.Module):\n",
        "    def __init__(self, feature_size, hidden_layer, seq_len,layers=2):\n",
        "        super(FutureDataPrediction, self).__init__()\n",
        "        self.hidden_layer = hidden_layer\n",
        "        self.seq_len = seq_len\n",
        "        self.layers = layers\n",
        "        #dropout,Overfitting yani aşırı öğrenme sorununu aşmamıza yarayan\n",
        "        self.lstm = nn.LSTM(input_size=feature_size,hidden_size=hidden_layer,num_layers=layers,dropout=0.5) #dropout en basit ifade ile sistemin ezberlemesini önlemeye çalışan bir katmandır.\n",
        "        self.linear = nn.Linear(in_features=hidden_layer, out_features=1)\n",
        "    \n",
        "    def reset_hidden_state(self): #reset_hidden ile her örnekten sonra durumu sıfırlıyoruz.\n",
        "        self.hidden = (\n",
        "            torch.zeros(self.layers, self.seq_len, self.hidden_layer).to(device),\n",
        "            torch.zeros(self.layers, self.seq_len, self.hidden_layer).to(device))\n",
        "    \n",
        "    def forward(self, data): #previous time stepinin outputunu alırız ve onu lineer katmandan geçiririz.\n",
        "        lstm, self.hidden = self.lstm(data.view(len(data), self.seq_len, -1),self.hidden)\n",
        "        previous_time_step = lstm.view(self.seq_len, len(data), self.hidden_layer)[-1]\n",
        "        out = self.linear(previous_time_step)\n",
        "        return out"
      ],
      "execution_count": null,
      "outputs": []
    },
    {
      "cell_type": "code",
      "metadata": {
        "id": "x8ScuevSz00-"
      },
      "source": [
        "#initialise modelparameters\n",
        "model = FutureDataPrediction(\n",
        "    feature_size=1,\n",
        "    hidden_layer=512,\n",
        "    seq_len=5,\n",
        "    layers=2)\n",
        "#Modelin ağırlıklarını bizim için güncelleyecek bir Optimizer tanımlamak için optim paketini kullandık. \n",
        "#Burada Adam'ı kullandık; optim paketi diğer birçok optimizasyon algoritmasını içerir. \n",
        "#Adam kurucusunun ilk argümanı, optimize ediciye hangi Tensörleri güncellemesi gerektiğini söyler.\n",
        "criterion = torch.nn.MSELoss(reduction='mean') #mean squared error kullandık eğitimimizi ve test hatamızı ölçmek için. \n",
        "optimizer = torch.optim.Adam(model.parameters(), lr=1e-3)"
      ],
      "execution_count": null,
      "outputs": []
    },
    {
      "cell_type": "code",
      "metadata": {
        "id": "UHGBOny1z3Q9",
        "colab": {
          "base_uri": "https://localhost:8080/"
        },
        "outputId": "e7fcae8b-b34d-40e9-f1cb-a32d2f8a51d4"
      },
      "source": [
        "model = model.to(device)\n",
        "model"
      ],
      "execution_count": null,
      "outputs": [
        {
          "output_type": "execute_result",
          "data": {
            "text/plain": [
              "FutureDataPrediction(\n",
              "  (lstm): LSTM(1, 512, num_layers=2, dropout=0.5)\n",
              "  (linear): Linear(in_features=512, out_features=1, bias=True)\n",
              ")"
            ]
          },
          "metadata": {
            "tags": []
          },
          "execution_count": 53
        }
      ]
    },
    {
      "cell_type": "code",
      "metadata": {
        "id": "jO675A9Cz4CO"
      },
      "source": [
        "#modelimizin eğitimi için yardımcı fonksiyonumu oluşturduk.\n",
        "def training(model,X_train,y_train,n_epochs):\n",
        "    model.train()\n",
        "    train_losses = []\n",
        "    \n",
        "    for epoch in range(n_epochs):\n",
        "        X_train, y_train = X_train.to(device), y_train.to(device)\n",
        "        model.reset_hidden_state()\n",
        "        optimizer.zero_grad() #the state has to be initialise to the start position after an epoch start.\n",
        "        y_pred = model(X_train)\n",
        "        loss = criterion(y_pred.float(), y_train) #ağırlıkları güncellemek için loss elde ettik.\n",
        "        train_losses.append(loss.item())\n",
        "        \n",
        "        if epoch % 10 == 0:\n",
        "            print(f'Epoch {epoch} train loss: {loss.item()}')\n",
        "            \n",
        "        loss.backward()\n",
        "        optimizer.step()\n",
        "    return train_losses"
      ],
      "execution_count": null,
      "outputs": []
    },
    {
      "cell_type": "code",
      "metadata": {
        "id": "QOcCFurmz8AK",
        "colab": {
          "base_uri": "https://localhost:8080/"
        },
        "outputId": "ec63d122-0335-4443-ea34-b12f184b4407"
      },
      "source": [
        "train_losses = training(model,X,y,n_epochs=400)"
      ],
      "execution_count": null,
      "outputs": [
        {
          "output_type": "stream",
          "text": [
            "Epoch 0 train loss: 0.005645113065838814\n",
            "Epoch 10 train loss: 0.0058313822373747826\n",
            "Epoch 20 train loss: 0.005644187331199646\n",
            "Epoch 30 train loss: 0.00548679381608963\n",
            "Epoch 40 train loss: 0.005818313453346491\n",
            "Epoch 50 train loss: 0.005715998355299234\n",
            "Epoch 60 train loss: 0.005920860450714827\n",
            "Epoch 70 train loss: 0.006020986475050449\n",
            "Epoch 80 train loss: 0.005742976907640696\n",
            "Epoch 90 train loss: 0.00572093715891242\n",
            "Epoch 100 train loss: 0.005475560203194618\n",
            "Epoch 110 train loss: 0.005200107116252184\n",
            "Epoch 120 train loss: 0.005390226375311613\n",
            "Epoch 130 train loss: 0.005747038871049881\n",
            "Epoch 140 train loss: 0.005331152584403753\n",
            "Epoch 150 train loss: 0.005807525012642145\n",
            "Epoch 160 train loss: 0.005731774494051933\n",
            "Epoch 170 train loss: 0.005447142757475376\n",
            "Epoch 180 train loss: 0.005856796633452177\n",
            "Epoch 190 train loss: 0.0057706390507519245\n",
            "Epoch 200 train loss: 0.005605663172900677\n",
            "Epoch 210 train loss: 0.005811025388538837\n",
            "Epoch 220 train loss: 0.006016396451741457\n",
            "Epoch 230 train loss: 0.005545963067561388\n",
            "Epoch 240 train loss: 0.005952047184109688\n",
            "Epoch 250 train loss: 0.005882516968995333\n",
            "Epoch 260 train loss: 0.00569683825597167\n",
            "Epoch 270 train loss: 0.005771546624600887\n",
            "Epoch 280 train loss: 0.005549871828407049\n",
            "Epoch 290 train loss: 0.005879536736756563\n",
            "Epoch 300 train loss: 0.005626837257295847\n",
            "Epoch 310 train loss: 0.00558693241328001\n",
            "Epoch 320 train loss: 0.006129691377282143\n",
            "Epoch 330 train loss: 0.005554948467761278\n",
            "Epoch 340 train loss: 0.005656993482261896\n",
            "Epoch 350 train loss: 0.005907336249947548\n",
            "Epoch 360 train loss: 0.005791209638118744\n",
            "Epoch 370 train loss: 0.005679510999470949\n",
            "Epoch 380 train loss: 0.005503600463271141\n",
            "Epoch 390 train loss: 0.005634601227939129\n"
          ],
          "name": "stdout"
        }
      ]
    },
    {
      "cell_type": "code",
      "metadata": {
        "id": "CYYPAzK3-_Ua",
        "colab": {
          "base_uri": "https://localhost:8080/",
          "height": 632
        },
        "outputId": "6bfc97df-9f10-4484-b5a5-1b7aa9bd0b81"
      },
      "source": [
        "plt.figure(figsize=(10,10))\n",
        "plt.plot(train_losses, label='Training')    \n",
        "plt.title(\"loss vs epoch\",fontsize=20)\n",
        "plt.xlabel(\"epoch\",fontsize=15)\n",
        "plt.ylabel(\"loss\",fontsize=15)\n",
        "plt.legend(fontsize=15)\n",
        "plt.show()"
      ],
      "execution_count": null,
      "outputs": [
        {
          "output_type": "display_data",
          "data": {
            "image/png": "[encoded data removed]",
            "text/plain": [
              "<Figure size 720x720 with 1 Axes>"
            ]
          },
          "metadata": {
            "tags": [],
            "needs_background": "light"
          }
        }
      ]
    },
    {
      "cell_type": "code",
      "metadata": {
        "id": "K4k1_Sho_EQs",
        "colab": {
          "base_uri": "https://localhost:8080/"
        },
        "outputId": "59a32f74-6819-4d07-db3f-516b691bff0d"
      },
      "source": [
        "X.shape"
      ],
      "execution_count": null,
      "outputs": [
        {
          "output_type": "execute_result",
          "data": {
            "text/plain": [
              "torch.Size([291, 5, 1])"
            ]
          },
          "metadata": {
            "tags": []
          },
          "execution_count": 129
        }
      ]
    },
    {
      "cell_type": "code",
      "metadata": {
        "id": "ymLKaOl7_Ghu"
      },
      "source": [
        "#modelimiz gelecekte yalnızca tek bir günü tahmin edebilir. bunun üstesinden gelmek için girdi olarak tahmin edilen günleri kullanacağız.\n",
        "def testing(model,X,predict_days,sequence_length):\n",
        "    model.eval()\n",
        "    \n",
        "    with torch.no_grad():\n",
        "        test_sequence = X[:1] #geleceği tahmin etmek için X'in son verilerini ağa girdi olarak göndericez.\n",
        "        predicts = []\n",
        "\n",
        "        for _ in range(predict_days):\n",
        "            y_pred = model(test_sequence)\n",
        "            predict = torch.flatten(y_pred).item() #değerleri düzleştiriyorz \n",
        "            predicts.append(predict)\n",
        "            \n",
        "            test_seq = test_sequence.detach().cpu().numpy().flatten() #yeni diziye bağlanmak için eski diziyi flatten ediyoruz\n",
        "            test_seq = np.append(test_seq, [predict]) #obtain new predicted as sequence\n",
        "            test_seq = test_seq[1:] \n",
        "            testing_seq = torch.as_tensor(test_seq).view(1, sequence_length, 1).float()\n",
        "    return predicts\n"
      ],
      "execution_count": null,
      "outputs": []
    },
    {
      "cell_type": "code",
      "metadata": {
        "id": "6BMZv2n9_JRv",
        "colab": {
          "base_uri": "https://localhost:8080/"
        },
        "outputId": "44233db1-9a1c-4752-cdd9-966b1f49677a"
      },
      "source": [
        "predict_days = 30 #önümüzdeki ayı tahmin edeceğiz\n",
        "predict_cases = testing(model,X,predict_days,sequence_length = 5) \n",
        "predict_cases\n"
      ],
      "execution_count": null,
      "outputs": [
        {
          "output_type": "execute_result",
          "data": {
            "text/plain": [
              "[1.0756417512893677,\n",
              " 0.997995913028717,\n",
              " 1.2613543272018433,\n",
              " 0.9749892354011536,\n",
              " 1.4213212728500366,\n",
              " 0.9458672404289246,\n",
              " 1.4056309461593628,\n",
              " 0.8693820834159851,\n",
              " 1.0320481061935425,\n",
              " 0.7598780989646912,\n",
              " 0.8908880352973938,\n",
              " 0.7196239829063416,\n",
              " 0.8097901940345764,\n",
              " 0.7003218531608582,\n",
              " 0.7733357548713684,\n",
              " 0.7247999906539917,\n",
              " 0.7605200409889221,\n",
              " 0.7411555647850037,\n",
              " 0.7409469485282898,\n",
              " 0.7338774800300598,\n",
              " 0.7265216708183289,\n",
              " 0.7128459811210632,\n",
              " 0.700789749622345,\n",
              " 0.6908461451530457,\n",
              " 0.6831719279289246,\n",
              " 0.6777642369270325,\n",
              " 0.6746441721916199,\n",
              " 0.6734101176261902,\n",
              " 0.6735052466392517,\n",
              " 0.6744231581687927]"
            ]
          },
          "metadata": {
            "tags": []
          },
          "execution_count": 131
        }
      ]
    },
    {
      "cell_type": "code",
      "metadata": {
        "id": "SqBr9YP9_Oie"
      },
      "source": [
        "\n",
        "#0 dan 1 e değerleri minmaxscaler ile orjinal değerlere ters çeviriyoruz\n",
        "future_cases = mm_scaler.inverse_transform(np.expand_dims(predict_cases, axis=0)).flatten() \n",
        "predict_index = pd.date_range(\n",
        "                  start=daily_data.index[-1],\n",
        "                  periods=predict_days + 1,\n",
        "                  closed='right')\n",
        "future_cases = pd.Series(\n",
        "                  data=future_cases,\n",
        "                  index=predict_index) #model tarafından oluşturulan gecelecek vakalar"
      ],
      "execution_count": null,
      "outputs": []
    },
    {
      "cell_type": "code",
      "metadata": {
        "id": "jy-MOdbH_TwL"
      },
      "source": [
        "#önceki vakaların aynı tarih biçimde elde edilmesi\n",
        "previous_index = pd.date_range(\n",
        "                  start=daily_data.index[0],\n",
        "                  periods=len(daily_data))\n",
        "previous_cases = pd.Series(\n",
        "                  data=daily_data,\n",
        "                  index=previous_index)"
      ],
      "execution_count": null,
      "outputs": []
    },
    {
      "cell_type": "code",
      "metadata": {
        "id": "fTMqvvAw_W9Y",
        "colab": {
          "base_uri": "https://localhost:8080/"
        },
        "outputId": "def31340-7fd0-48dd-d877-42906b8fc803"
      },
      "source": [
        "previous_cases"
      ],
      "execution_count": null,
      "outputs": [
        {
          "output_type": "execute_result",
          "data": {
            "text/plain": [
              "2020-01-22        0\n",
              "2020-01-23        0\n",
              "2020-01-24        0\n",
              "2020-01-25        0\n",
              "2020-01-26        0\n",
              "              ...  \n",
              "2020-11-09    13363\n",
              "2020-11-10    15332\n",
              "2020-11-11    18487\n",
              "2020-11-12    21866\n",
              "2020-11-13    23542\n",
              "Freq: D, Length: 297, dtype: int64"
            ]
          },
          "metadata": {
            "tags": []
          },
          "execution_count": 134
        }
      ]
    },
    {
      "cell_type": "code",
      "metadata": {
        "id": "JUyiSL_g_g-_",
        "colab": {
          "base_uri": "https://localhost:8080/"
        },
        "outputId": "ea9b4c0d-fb4f-437c-bedc-e7248ffc5414"
      },
      "source": [
        "future_cases"
      ],
      "execution_count": null,
      "outputs": [
        {
          "output_type": "execute_result",
          "data": {
            "text/plain": [
              "2020-11-14    25322.758109\n",
              "2020-11-15    23494.819785\n",
              "2020-11-16    29694.803571\n",
              "2020-11-17    22953.196580\n",
              "2020-11-18    33460.745405\n",
              "2020-11-19    22267.606574\n",
              "2020-11-20    33091.363734\n",
              "2020-11-21    20466.993008\n",
              "2020-11-22    24296.476516\n",
              "2020-11-23    17889.050206\n",
              "2020-11-24    20973.286127\n",
              "2020-11-25    16941.387806\n",
              "2020-11-26    19064.080748\n",
              "2020-11-27    16486.977067\n",
              "2020-11-28    18205.870341\n",
              "2020-11-29    17063.241380\n",
              "2020-11-30    17904.162805\n",
              "2020-12-01    17448.284306\n",
              "2020-12-02    17443.373062\n",
              "2020-12-03    17276.943635\n",
              "2020-12-04    17103.773174\n",
              "2020-12-05    16781.820088\n",
              "2020-12-06    16497.992286\n",
              "2020-12-07    16263.899949\n",
              "2020-12-08    16083.233527\n",
              "2020-12-09    15955.925666\n",
              "2020-12-10    15882.473102\n",
              "2020-12-11    15853.420989\n",
              "2020-12-12    15855.660516\n",
              "2020-12-13    15877.269990\n",
              "Freq: D, dtype: float64"
            ]
          },
          "metadata": {
            "tags": []
          },
          "execution_count": 135
        }
      ]
    },
    {
      "cell_type": "code",
      "metadata": {
        "id": "iB8q45fe_jbG",
        "colab": {
          "base_uri": "https://localhost:8080/",
          "height": 645
        },
        "outputId": "b752f9a8-bea9-457c-c9f4-f1d214900cf4"
      },
      "source": [
        "plt.figure(figsize=(10,10))\n",
        "plt.plot(previous_cases, label='Previous_cases from 22 Jan 2020 to 13/11/2020')\n",
        "plt.plot(future_cases, label='Next month estimated confirm cases')\n",
        "plt.title(\"Estimated Increase in Confirmed Covid Cases\",fontsize=15)\n",
        "plt.xlabel(\"Dates\",fontsize=15)\n",
        "plt.ylabel(\"Cases_confirmed\",fontsize=15)\n",
        "plt.legend(fontsize=15)"
      ],
      "execution_count": null,
      "outputs": [
        {
          "output_type": "execute_result",
          "data": {
            "text/plain": [
              "<matplotlib.legend.Legend at 0x7f3a30340d68>"
            ]
          },
          "metadata": {
            "tags": []
          },
          "execution_count": 139
        },
        {
          "output_type": "display_data",
          "data": {
            "image/png": "[encoded data removed]",
            "text/plain": [
              "<Figure size 720x720 with 1 Axes>"
            ]
          },
          "metadata": {
            "tags": [],
            "needs_background": "light"
          }
        }
      ]
    }
  ]
}